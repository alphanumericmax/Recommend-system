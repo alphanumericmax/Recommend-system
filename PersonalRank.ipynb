{
 "cells": [
  {
   "cell_type": "code",
   "execution_count": 1,
   "metadata": {},
   "outputs": [],
   "source": [
    "import sklearn\n",
    "import pandas as pd \n",
    "import numpy as np\n",
    "import gc\n",
    "import time\n",
    "from operator import itemgetter\n",
    "from sklearn.model_selection import KFold\n",
    "from collections import OrderedDict\n",
    "\n",
    "\n",
    "path = \"D:/kaggle/MovieLens/\"\n",
    "path2 = 'D:/kaggle/MovieLens/ml-latest-small/'\n",
    "#data = pd.read_csv( path+\"rating.csv\", usecols=[0,1])\n",
    "data = pd.read_csv( path2+\"ratings.csv\", usecols=[0,1])"
   ]
  },
  {
   "cell_type": "code",
   "execution_count": 2,
   "metadata": {},
   "outputs": [
    {
     "name": "stdout",
     "output_type": "stream",
     "text": [
      "(100836, 2)\n"
     ]
    },
    {
     "data": {
      "text/html": [
       "<div>\n",
       "<style scoped>\n",
       "    .dataframe tbody tr th:only-of-type {\n",
       "        vertical-align: middle;\n",
       "    }\n",
       "\n",
       "    .dataframe tbody tr th {\n",
       "        vertical-align: top;\n",
       "    }\n",
       "\n",
       "    .dataframe thead th {\n",
       "        text-align: right;\n",
       "    }\n",
       "</style>\n",
       "<table border=\"1\" class=\"dataframe\">\n",
       "  <thead>\n",
       "    <tr style=\"text-align: right;\">\n",
       "      <th></th>\n",
       "      <th>userId</th>\n",
       "      <th>movieId</th>\n",
       "    </tr>\n",
       "  </thead>\n",
       "  <tbody>\n",
       "    <tr>\n",
       "      <th>0</th>\n",
       "      <td>1</td>\n",
       "      <td>1</td>\n",
       "    </tr>\n",
       "    <tr>\n",
       "      <th>1</th>\n",
       "      <td>1</td>\n",
       "      <td>3</td>\n",
       "    </tr>\n",
       "    <tr>\n",
       "      <th>2</th>\n",
       "      <td>1</td>\n",
       "      <td>6</td>\n",
       "    </tr>\n",
       "    <tr>\n",
       "      <th>3</th>\n",
       "      <td>1</td>\n",
       "      <td>47</td>\n",
       "    </tr>\n",
       "    <tr>\n",
       "      <th>4</th>\n",
       "      <td>1</td>\n",
       "      <td>50</td>\n",
       "    </tr>\n",
       "  </tbody>\n",
       "</table>\n",
       "</div>"
      ],
      "text/plain": [
       "   userId  movieId\n",
       "0       1        1\n",
       "1       1        3\n",
       "2       1        6\n",
       "3       1       47\n",
       "4       1       50"
      ]
     },
     "execution_count": 2,
     "metadata": {},
     "output_type": "execute_result"
    }
   ],
   "source": [
    "print(data.shape)\n",
    "data.head()"
   ]
  },
  {
   "cell_type": "code",
   "execution_count": 3,
   "metadata": {},
   "outputs": [],
   "source": [
    "# 剔除稀疏和稠密的数据\n",
    "temp = data.groupby(['movieId'],as_index=False)['userId'].count().rename(columns={'userId':\"user_count\"})\n",
    "data = data.merge(temp, 'left', 'movieId')\n",
    "data = data[(data['user_count'] > 3) & (data['user_count'] < 200)]\n",
    "temp = data.groupby(['userId'],as_index=False)['movieId'].count().rename(columns={'movieId':\"movie_count\"})\n",
    "data = data.merge(temp, 'left', 'userId')\n",
    "data = data[ (data['movie_count'] > 3) & (data['movie_count'] < 800)]"
   ]
  },
  {
   "cell_type": "code",
   "execution_count": 4,
   "metadata": {
    "scrolled": true
   },
   "outputs": [
    {
     "data": {
      "text/plain": [
       "userId          594\n",
       "movieId        4135\n",
       "user_count      156\n",
       "movie_count     237\n",
       "dtype: int64"
      ]
     },
     "execution_count": 4,
     "metadata": {},
     "output_type": "execute_result"
    }
   ],
   "source": [
    "data.nunique()"
   ]
  },
  {
   "cell_type": "code",
   "execution_count": 5,
   "metadata": {},
   "outputs": [
    {
     "data": {
      "text/plain": [
       "(69637, 4)"
      ]
     },
     "execution_count": 5,
     "metadata": {},
     "output_type": "execute_result"
    }
   ],
   "source": [
    "data.shape"
   ]
  },
  {
   "cell_type": "code",
   "execution_count": 6,
   "metadata": {},
   "outputs": [],
   "source": [
    "kf = KFold(n_splits=8, shuffle=True, random_state=22)\n",
    "\n",
    "for train_index, valid_index in kf.split(data):\n",
    "    train = data.iloc[train_index]\n",
    "    test = data.iloc[valid_index]\n",
    "    user_items = {}\n",
    "    for userid, group in train.groupby(\"userId\"):\n",
    "        user_items[userid] = set( group['movieId'])\n",
    "\n",
    "    item_users = {}\n",
    "    for movieid, group in train.groupby(\"movieId\"):\n",
    "        item_users[movieid] = set( group['userId'])\n",
    "        \n",
    "    test_user_items = {}\n",
    "    for userid, group in test.groupby(\"userId\"):\n",
    "        test_user_items[userid] = set( group['movieId'])\n",
    "    \n",
    "    break"
   ]
  },
  {
   "cell_type": "code",
   "execution_count": 7,
   "metadata": {},
   "outputs": [],
   "source": [
    "class randomWalk(object):\n",
    "    def __init__(self, user_items, item_users, length=10, epoch=9, alpha=0.8):\n",
    "        self.user_items = user_items\n",
    "        self.item_users = item_users\n",
    "        self.length = length\n",
    "        self.epoch = epoch\n",
    "        self.alpha =alpha\n",
    "        self.pretrain = False\n",
    "        \n",
    "    def precommend(self):\n",
    "        length = self.length\n",
    "        self.user_recommend = {}\n",
    "        for i, user in enumerate(self.user_items.keys()):\n",
    "            if( i%50==0):\n",
    "                print(\"%s users\" % i)\n",
    "            self.user_recommend[user] = self.PersonalRank( user, length)\n",
    "        \n",
    "        self.pretrain = True\n",
    "        \n",
    "    def recommend(self, user, length=10):\n",
    "        if self.pretrain == False:\n",
    "            return self.PersonalRank(user, length)\n",
    "        else:\n",
    "            return self.user_recommend[user]\n",
    "            \n",
    "\n",
    "    def PersonalRank(self, root, length):\n",
    "        alpha = self.alpha\n",
    "        is_user = {}\n",
    "        is_user[root] = 1\n",
    "        rank = OrderedDict()\n",
    "        rank[root] = 1.0\n",
    "        # 迭代10次基本上就收敛了\n",
    "        for k in range(self.epoch):\n",
    "            temp = OrderedDict()\n",
    "            iter_set = set(is_user.keys())\n",
    "            for i in iter_set:\n",
    "                if is_user[i]:\n",
    "                    neighbors = user_items[i]\n",
    "                else:\n",
    "                    neighbors = self.item_users[i]\n",
    "                temp[root] = temp.get(root, 0) + (1 - alpha) * rank.get(i,0)\n",
    "                for j in neighbors:\n",
    "                    if not j in is_user:\n",
    "                        if is_user[i]:\n",
    "                            is_user[j] = 0\n",
    "                        else:\n",
    "                            is_user[j] = 1\n",
    "                    temp[j] = temp.get(j, 0) + alpha * rank.get(i,0) /  len(neighbors)\n",
    "\n",
    "            #print(np.sum([i for i in temp.values()]))\n",
    "            rank = temp\n",
    "\n",
    "        ret = {}\n",
    "        for i, key in enumerate(rank):\n",
    "            if i>1000:\n",
    "                break\n",
    "            else:\n",
    "                if is_user[key] == 0 and not key in user_items[root]:\n",
    "                    ret[key] = rank[key]\n",
    "        return sorted(ret.items(), key=lambda d:d[1], reverse=True)[0:length]"
   ]
  },
  {
   "cell_type": "code",
   "execution_count": 8,
   "metadata": {},
   "outputs": [
    {
     "name": "stdout",
     "output_type": "stream",
     "text": [
      "0 users\n",
      "50 users\n",
      "100 users\n",
      "150 users\n",
      "200 users\n",
      "250 users\n",
      "300 users\n",
      "350 users\n",
      "400 users\n",
      "450 users\n",
      "500 users\n",
      "550 users\n"
     ]
    }
   ],
   "source": [
    "model = randomWalk( user_items, item_users)\n",
    "model.precommend()"
   ]
  },
  {
   "cell_type": "code",
   "execution_count": 9,
   "metadata": {},
   "outputs": [],
   "source": [
    "def Recall_Precision(obj, test, topN):\n",
    "    hit = 0\n",
    "    n_recall = 0\n",
    "    n_precision = 0\n",
    "    for user in test.keys():\n",
    "        true = test[user]\n",
    "        rank = obj.recommend(user, length=topN)\n",
    "        rank = {it[0] for it in rank}\n",
    "        hit += len(true & rank)\n",
    "        n_recall += len(true)\n",
    "        n_precision += topN\n",
    "    return hit / n_recall, hit / n_precision"
   ]
  },
  {
   "cell_type": "code",
   "execution_count": 11,
   "metadata": {},
   "outputs": [
    {
     "data": {
      "text/plain": [
       "(0.062377943710511204, 0.09250425894378195)"
      ]
     },
     "execution_count": 11,
     "metadata": {},
     "output_type": "execute_result"
    }
   ],
   "source": [
    "Recall_Precision(model,test_user_items, 10)"
   ]
  },
  {
   "cell_type": "code",
   "execution_count": null,
   "metadata": {},
   "outputs": [],
   "source": []
  }
 ],
 "metadata": {
  "kernelspec": {
   "display_name": "Python 3",
   "language": "python",
   "name": "python3"
  },
  "language_info": {
   "codemirror_mode": {
    "name": "ipython",
    "version": 3
   },
   "file_extension": ".py",
   "mimetype": "text/x-python",
   "name": "python",
   "nbconvert_exporter": "python",
   "pygments_lexer": "ipython3",
   "version": "3.6.1"
  }
 },
 "nbformat": 4,
 "nbformat_minor": 2
}
